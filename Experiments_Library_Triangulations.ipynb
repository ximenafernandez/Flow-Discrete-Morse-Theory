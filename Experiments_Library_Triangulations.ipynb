{
 "cells": [
  {
   "cell_type": "markdown",
   "metadata": {},
   "source": [
    "### Experiments on the Library of Triangulations"
   ]
  },
  {
   "cell_type": "markdown",
   "metadata": {},
   "source": [
    "https://www3.math.tu-berlin.de/IfM/Nachrufe/Frank_Lutz/stellar/library_of_triangulations/"
   ]
  },
  {
   "cell_type": "code",
   "execution_count": 7,
   "metadata": {},
   "outputs": [],
   "source": [
    "!sage --preparse Flow_Category/Flow2.sage\n",
    "!mv Flow_Category/Flow2.sage.py Flow_Category/Flow2.py\n",
    "!sage --preparse Flow_Category/Localization.sage\n",
    "!mv Flow_Category/Localization.sage.py Flow_Category/Localization.py\n",
    "!sage --preparse Flow_Category/Matchings.sage\n",
    "!mv Flow_Category/Matchings.sage.py Flow_Category/Matchings.py\n",
    "\n",
    "from Flow_Category.Flow2 import *\n",
    "from Flow_Category.Localization import *\n",
    "from Flow_Category.Matchings import *"
   ]
  },
  {
   "cell_type": "code",
   "execution_count": 8,
   "metadata": {},
   "outputs": [],
   "source": [
    "import numpy as np\n",
    "from tqdm import tqdm\n",
    "import os\n",
    "import time"
   ]
  },
  {
   "cell_type": "markdown",
   "metadata": {},
   "source": [
    "We analize minimal regular CW-decompositions of 2-dimensional complexes in the library"
   ]
  },
  {
   "cell_type": "code",
   "execution_count": 9,
   "metadata": {},
   "outputs": [],
   "source": [
    "triangulations = [\n",
    "    \"Abalone\",\n",
    "    \"BH\",\n",
    "    \"BH_3\",\n",
    "    \"BH_4\",\n",
    "    \"BH_5\",\n",
    "    \"d2_n8_3torsion\",\n",
    "    \"d2_n8_4torsion\",\n",
    "    \"d2_n9_5torsion\",\n",
    "    \"dunce_hat\",\n",
    "    \"d2n12g6\",\n",
    "    \"regular_2_21_23_1\",\n",
    "    \"rand2_n25_p0.328\",\n",
    "    \"dunce_hat_in_3_ball\",\n",
    "    \"Barnette_sphere\",\n",
    "    \"B_3_9_18\",\n",
    "    \"trefoil_arc\",\n",
    "    \"trefoil\",\n",
    "    \"rudin\",\n",
    "    \"poincare\",\n",
    "    \"double_trefoil\",\n",
    "    \"triple_trefoil_arc\",\n",
    "    \"triple_trefoil\",\n",
    "    \"hyperbolic_dodecahedral_space\",\n",
    "    \"S_3_50_1033\",\n",
    "    \"600_cell\",\n",
    "    \"CP2\",\n",
    "    \"RP4\",\n",
    "    \"K3_16\",\n",
    "    \"K3_17\",\n",
    "    \"RP4_K3_17\",\n",
    "    \"RP4_11S2xS2\",\n",
    "    \"SU2_SO3\",\n",
    "    \"non_PL\",\n",
    "    \"bing\", \"non_4_2_colorable\", \"Hom_C5_K4\", \"trefoil_bsd\", \"knot\"\n",
    "]"
   ]
  },
  {
   "cell_type": "code",
   "execution_count": 14,
   "metadata": {},
   "outputs": [
    {
     "name": "stdout",
     "output_type": "stream",
     "text": [
      "Analysing Abalone...\n",
      "Analysing BH...\n",
      "Analysing BH_3...\n",
      "Analysing BH_4...\n",
      "Analysing BH_5...\n",
      "Analysing d2_n8_3torsion...\n",
      "Analysing d2_n8_4torsion...\n",
      "Analysing d2_n9_5torsion...\n",
      "Analysing dunce_hat...\n",
      "Analysing d2n12g6...\n",
      "Analysing regular_2_21_23_1...\n",
      "Analysing rand2_n25_p0.328...\n",
      "Analysing dunce_hat_in_3_ball...\n",
      "Analysing Barnette_sphere...\n",
      "Analysing B_3_9_18...\n",
      "Analysing trefoil_arc...\n",
      "Analysing trefoil...\n",
      "Analysing rudin...\n",
      "Analysing poincare...\n",
      "Analysing double_trefoil...\n",
      "Analysing triple_trefoil_arc...\n",
      "Analysing triple_trefoil...\n",
      "Analysing hyperbolic_dodecahedral_space...\n",
      "Analysing S_3_50_1033...\n",
      "Analysing 600_cell...\n",
      "Analysing CP2...\n",
      "Analysing RP4...\n",
      "Analysing K3_16...\n",
      "Analysing K3_17...\n",
      "Analysing RP4_K3_17...\n",
      "Analysing RP4_11S2xS2...\n",
      "Analysing SU2_SO3...\n",
      "Analysing non_PL...\n",
      "Analysing bing...\n",
      "Analysing non_4_2_colorable...\n",
      "Analysing Hom_C5_K4...\n",
      "Analysing trefoil_bsd...\n",
      "Analysing knot...\n"
     ]
    }
   ],
   "source": [
    "two_dim = []\n",
    "base_directory = \"Library_Triangulations\"\n",
    "os.makedirs(base_directory, exist_ok=True)\n",
    "\n",
    "for s_complex in triangulations:\n",
    "        print(f\"Analysing {s_complex}...\")  # Display the current complex name\n",
    "        \n",
    "        # Construct file path\n",
    "        file_path = os.path.join(base_directory, f\"{s_complex}.txt\")\n",
    "        \n",
    "        # Load simplices\n",
    "        simplices = np.loadtxt(file_path, dtype=int)\n",
    "        \n",
    "        # Initialize results\n",
    "\n",
    "        K = SimplicialComplex(simplices)\n",
    "        X = K.face_poset()\n",
    "        if X.height()==3:\n",
    "            two_dim.append(s_complex)"
   ]
  },
  {
   "cell_type": "code",
   "execution_count": 12,
   "metadata": {},
   "outputs": [],
   "source": [
    "def reduction(triangulations, n_sim):\n",
    "    \n",
    "    results = []\n",
    "    procedure_times = []\n",
    "    \n",
    "    base_directory = \"Library_Triangulations\"\n",
    "    os.makedirs(base_directory, exist_ok=True)\n",
    "    \n",
    "    for s_complex in triangulations:\n",
    "        print(f\"Processing {s_complex}...\")  # Display the current complex name\n",
    "        \n",
    "        # Start timing\n",
    "        start_time = time.time()\n",
    "        \n",
    "        # Construct file path\n",
    "        file_path = os.path.join(base_directory, f\"{s_complex}.txt\")\n",
    "        \n",
    "        # Load simplices\n",
    "        simplices = np.loadtxt(file_path, dtype=int)\n",
    "        \n",
    "        # Initialize results\n",
    "        random_reduction = [s_complex]\n",
    "        reduction_times = [s_complex]\n",
    "        K = SimplicialComplex(simplices)\n",
    "        X = K.face_poset()\n",
    "        random_reduction.append(len(X))\n",
    "        \n",
    "        # Containers for statistics and timing\n",
    "        N_flow_Morse = []\n",
    "\n",
    "        \n",
    "        time_flow = []\n",
    "        \n",
    "        # Progress bar for simulations\n",
    "        for i in tqdm(range(1, n_sim + 1), desc=f\"Simulations for {s_complex}\"):\n",
    "        \n",
    "            # Perform Flow Morse reduction\n",
    "            step_start = time.time()\n",
    "            M = regular_acyclic_matching(X)\n",
    "            C = critical_poset(X,M)\n",
    "            N_flow_Morse.append(len(C))\n",
    "            step_end = time.time()\n",
    "            time_flow.append(step_end - step_start)\n",
    "        \n",
    "        \n",
    "        # Append statistics to random_reduction\n",
    "        random_reduction.append(np.mean(N_flow_Morse))\n",
    "        reduction_times.append(np.mean(time_flow))     \n",
    "        \n",
    "        # End timing\n",
    "        end_time = time.time()\n",
    "        \n",
    "        # Calculate elapsed time\n",
    "        elapsed_time = end_time - start_time\n",
    "        \n",
    "        # Display results in a table-like format\n",
    "        print(f\"\\nResults for {s_complex}:\\n\")\n",
    "        \n",
    "        # Fixed width for columns\n",
    "        label_width = 30  # Width for the label column\n",
    "        value_width = 12  # Width for the value column\n",
    "        \n",
    "        # Header row\n",
    "        print(f\"{'Reduction':<{label_width}} {'Simplices':>{value_width}} {'Time (seconds)':>{value_width}}\")\n",
    "        \n",
    "        # Separator\n",
    "        print(f\"{'-' * label_width} {'-' * value_width} {'-' * value_width}\")\n",
    "        \n",
    "        # Table rows for the different procedures\n",
    "        print(f\"{'Original simplicial complex:':<{label_width}} {len(X):>{value_width}} {'-':>{value_width}}\")\n",
    "        print(f\"{'Flow Morse core:':<{label_width}} {np.mean(N_flow_Morse):>{value_width}.2f} {np.mean(time_flow):>{value_width}.4f}\")\n",
    "\n",
    "        print(f\"Total time taken: {elapsed_time:.2f} seconds\\n\")\n",
    "        \n",
    "        results.append(random_reduction)\n",
    "        procedure_times.append(reduction_times)\n",
    "    return results, procedure_times"
   ]
  },
  {
   "cell_type": "code",
   "execution_count": null,
   "metadata": {},
   "outputs": [],
   "source": []
  },
  {
   "cell_type": "markdown",
   "metadata": {},
   "source": [
    "We perform 10 random simulations of _regular_ acyclic matchings on the face poset of each complex, satysfying that the resulting flow posets are contractible. We then compute the average number of cells in the corresponding critical poset. In all cases, we observe a significant reduction in the number of cells compared to the original triangulation."
   ]
  },
  {
   "cell_type": "code",
   "execution_count": 13,
   "metadata": {},
   "outputs": [
    {
     "name": "stdout",
     "output_type": "stream",
     "text": [
      "Processing Abalone...\n"
     ]
    },
    {
     "name": "stderr",
     "output_type": "stream",
     "text": [
      "Simulations for Abalone: 100%|██████████| 10/10 [00:17<00:00,  1.72s/it]\n"
     ]
    },
    {
     "name": "stdout",
     "output_type": "stream",
     "text": [
      "\n",
      "Results for Abalone:\n",
      "\n",
      "Reduction                         Simplices Time (seconds)\n",
      "------------------------------ ------------ ------------\n",
      "Original simplicial complex:            101            -\n",
      "Flow Morse core:                      33.20       1.7187\n",
      "Total time taken: 17.27 seconds\n",
      "\n",
      "Processing BH...\n"
     ]
    },
    {
     "name": "stderr",
     "output_type": "stream",
     "text": [
      "Simulations for BH: 100%|██████████| 10/10 [00:27<00:00,  2.74s/it]\n"
     ]
    },
    {
     "name": "stdout",
     "output_type": "stream",
     "text": [
      "\n",
      "Results for BH:\n",
      "\n",
      "Reduction                         Simplices Time (seconds)\n",
      "------------------------------ ------------ ------------\n",
      "Original simplicial complex:            131            -\n",
      "Flow Morse core:                      40.20       2.7407\n",
      "Total time taken: 27.42 seconds\n",
      "\n",
      "Processing BH_3...\n"
     ]
    },
    {
     "name": "stderr",
     "output_type": "stream",
     "text": [
      "Simulations for BH_3: 100%|██████████| 10/10 [03:05<00:00, 18.53s/it]\n"
     ]
    },
    {
     "name": "stdout",
     "output_type": "stream",
     "text": [
      "\n",
      "Results for BH_3:\n",
      "\n",
      "Reduction                         Simplices Time (seconds)\n",
      "------------------------------ ------------ ------------\n",
      "Original simplicial complex:            301            -\n",
      "Flow Morse core:                      82.60      18.5344\n",
      "Total time taken: 185.36 seconds\n",
      "\n",
      "Processing BH_4...\n"
     ]
    },
    {
     "name": "stderr",
     "output_type": "stream",
     "text": [
      "Simulations for BH_4: 100%|██████████| 10/10 [06:21<00:00, 38.15s/it]\n"
     ]
    },
    {
     "name": "stdout",
     "output_type": "stream",
     "text": [
      "\n",
      "Results for BH_4:\n",
      "\n",
      "Reduction                         Simplices Time (seconds)\n",
      "------------------------------ ------------ ------------\n",
      "Original simplicial complex:            401            -\n",
      "Flow Morse core:                     107.60      38.1501\n",
      "Total time taken: 381.52 seconds\n",
      "\n",
      "Processing BH_5...\n"
     ]
    },
    {
     "name": "stderr",
     "output_type": "stream",
     "text": [
      "Simulations for BH_5: 100%|██████████| 10/10 [18:38<00:00, 111.90s/it]\n"
     ]
    },
    {
     "name": "stdout",
     "output_type": "stream",
     "text": [
      "\n",
      "Results for BH_5:\n",
      "\n",
      "Reduction                         Simplices Time (seconds)\n",
      "------------------------------ ------------ ------------\n",
      "Original simplicial complex:            501            -\n",
      "Flow Morse core:                     137.00     111.8964\n",
      "Total time taken: 1118.98 seconds\n",
      "\n",
      "Processing d2_n8_3torsion...\n"
     ]
    },
    {
     "name": "stderr",
     "output_type": "stream",
     "text": [
      "Simulations for d2_n8_3torsion: 100%|██████████| 10/10 [00:04<00:00,  2.29it/s]\n"
     ]
    },
    {
     "name": "stdout",
     "output_type": "stream",
     "text": [
      "\n",
      "Results for d2_n8_3torsion:\n",
      "\n",
      "Reduction                         Simplices Time (seconds)\n",
      "------------------------------ ------------ ------------\n",
      "Original simplicial complex:             49            -\n",
      "Flow Morse core:                      20.40       0.4370\n",
      "Total time taken: 4.38 seconds\n",
      "\n",
      "Processing d2_n8_4torsion...\n"
     ]
    },
    {
     "name": "stderr",
     "output_type": "stream",
     "text": [
      "Simulations for d2_n8_4torsion: 100%|██████████| 10/10 [00:04<00:00,  2.01it/s]\n"
     ]
    },
    {
     "name": "stdout",
     "output_type": "stream",
     "text": [
      "\n",
      "Results for d2_n8_4torsion:\n",
      "\n",
      "Reduction                         Simplices Time (seconds)\n",
      "------------------------------ ------------ ------------\n",
      "Original simplicial complex:             53            -\n",
      "Flow Morse core:                      21.80       0.4965\n",
      "Total time taken: 4.97 seconds\n",
      "\n",
      "Processing d2_n9_5torsion...\n"
     ]
    },
    {
     "name": "stderr",
     "output_type": "stream",
     "text": [
      "Simulations for d2_n9_5torsion: 100%|██████████| 10/10 [16:44<00:00, 100.46s/it]\n"
     ]
    },
    {
     "name": "stdout",
     "output_type": "stream",
     "text": [
      "\n",
      "Results for d2_n9_5torsion:\n",
      "\n",
      "Reduction                         Simplices Time (seconds)\n",
      "------------------------------ ------------ ------------\n",
      "Original simplicial complex:             65            -\n",
      "Flow Morse core:                      28.20     100.4553\n",
      "Total time taken: 1004.56 seconds\n",
      "\n",
      "Processing dunce_hat...\n"
     ]
    },
    {
     "name": "stderr",
     "output_type": "stream",
     "text": [
      "Simulations for dunce_hat: 100%|██████████| 10/10 [34:34<00:00, 207.46s/it]\n"
     ]
    },
    {
     "name": "stdout",
     "output_type": "stream",
     "text": [
      "\n",
      "Results for dunce_hat:\n",
      "\n",
      "Reduction                         Simplices Time (seconds)\n",
      "------------------------------ ------------ ------------\n",
      "Original simplicial complex:             49            -\n",
      "Flow Morse core:                      20.20     207.4546\n",
      "Total time taken: 2074.56 seconds\n",
      "\n",
      "Processing d2n12g6...\n"
     ]
    },
    {
     "name": "stderr",
     "output_type": "stream",
     "text": [
      "Simulations for d2n12g6: 100%|██████████| 10/10 [00:21<00:00,  2.16s/it]\n"
     ]
    },
    {
     "name": "stdout",
     "output_type": "stream",
     "text": [
      "\n",
      "Results for d2n12g6:\n",
      "\n",
      "Reduction                         Simplices Time (seconds)\n",
      "------------------------------ ------------ ------------\n",
      "Original simplicial complex:            122            -\n",
      "Flow Morse core:                      47.40       2.1627\n",
      "Total time taken: 21.64 seconds\n",
      "\n",
      "Processing regular_2_21_23_1...\n"
     ]
    },
    {
     "name": "stderr",
     "output_type": "stream",
     "text": [
      "Simulations for regular_2_21_23_1: 100%|██████████| 10/10 [01:48<00:00, 10.85s/it]\n"
     ]
    },
    {
     "name": "stdout",
     "output_type": "stream",
     "text": [
      "\n",
      "Results for regular_2_21_23_1:\n",
      "\n",
      "Reduction                         Simplices Time (seconds)\n",
      "------------------------------ ------------ ------------\n",
      "Original simplicial complex:            266            -\n",
      "Flow Morse core:                      98.20      10.8536\n",
      "Total time taken: 108.55 seconds\n",
      "\n",
      "Processing rand2_n25_p0.328...\n"
     ]
    },
    {
     "name": "stderr",
     "output_type": "stream",
     "text": [
      "Simulations for rand2_n25_p0.328: 100%|██████████| 10/10 [54:43<00:00, 328.33s/it]"
     ]
    },
    {
     "name": "stdout",
     "output_type": "stream",
     "text": [
      "\n",
      "Results for rand2_n25_p0.328:\n",
      "\n",
      "Reduction                         Simplices Time (seconds)\n",
      "------------------------------ ------------ ------------\n",
      "Original simplicial complex:           1076            -\n",
      "Flow Morse core:                     736.20     328.3283\n",
      "Total time taken: 3283.34 seconds\n",
      "\n"
     ]
    },
    {
     "name": "stderr",
     "output_type": "stream",
     "text": [
      "\n"
     ]
    }
   ],
   "source": [
    "n_sim = 10\n",
    "results, procedure_times = reduction(two_dim, n_sim)"
   ]
  },
  {
   "cell_type": "code",
   "execution_count": null,
   "metadata": {},
   "outputs": [],
   "source": []
  }
 ],
 "metadata": {
  "kernelspec": {
   "display_name": "SageMath 10.4",
   "language": "sage",
   "name": "sagemath-10.4"
  },
  "language_info": {
   "codemirror_mode": {
    "name": "ipython",
    "version": 3
   },
   "file_extension": ".py",
   "mimetype": "text/x-python",
   "name": "python",
   "nbconvert_exporter": "python",
   "pygments_lexer": "ipython3",
   "version": "3.12.4"
  }
 },
 "nbformat": 4,
 "nbformat_minor": 4
}
